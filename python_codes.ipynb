{
  "cells": [
    {
      "cell_type": "code",
      "execution_count": null,
      "metadata": {
        "colab": {
          "base_uri": "https://localhost:8080/",
          "height": 34
        },
        "id": "gJr_9dXGpJ05",
        "outputId": "9f556d03-ec67-4950-a485-cfdba9ddd14d"
      },
      "outputs": [
        {
          "data": {
            "text/plain": [
              "86400"
            ]
          },
          "execution_count": 0,
          "metadata": {
            "tags": []
          },
          "output_type": "execute_result"
        }
      ],
      "source": [
        "seconds_in_a_day = 24 * 60 * 60\n",
        "seconds_in_a_day"
      ]
    },
    {
      "cell_type": "code",
      "source": [
        "a=1238479783723638287\n",
        "print(a)\n",
        "b=\"harry\"         #Variables\n",
        "print(b)\n",
        "c=complex(8,2)\n",
        "print(c)\n"
      ],
      "metadata": {
        "colab": {
          "base_uri": "https://localhost:8080/"
        },
        "id": "v_9BxNXi_7ZL",
        "outputId": "e6f4f713-f5bf-4821-e57b-1357f6f7c64e"
      },
      "execution_count": 3,
      "outputs": [
        {
          "output_type": "stream",
          "name": "stdout",
          "text": [
            "1238479783723638287\n",
            "harry\n",
            "(8+2j)\n"
          ]
        }
      ]
    },
    {
      "cell_type": "code",
      "source": [
        "a=1238479783723638287\n",
        "print(\"The type of a is\",type(a))\n",
        "b=\"harry\"                                  #Data types\n",
        "print(\"The type of a is\",type(a))\n",
        "c=complex(8,2)\n",
        "print(\"The type of a is\",type(a))\n",
        "d=True\n",
        "print(\"The type of d is\",type(d))"
      ],
      "metadata": {
        "colab": {
          "base_uri": "https://localhost:8080/"
        },
        "id": "qQ6n7W3OgoV_",
        "outputId": "ef7a72e1-4d83-4e3a-d276-e7b1d8a19e3a"
      },
      "execution_count": 4,
      "outputs": [
        {
          "output_type": "stream",
          "name": "stdout",
          "text": [
            "The type of a is <class 'int'>\n",
            "The type of a is <class 'int'>\n",
            "The type of a is <class 'int'>\n",
            "The type of d is <class 'bool'>\n"
          ]
        }
      ]
    },
    {
      "cell_type": "code",
      "execution_count": null,
      "metadata": {
        "colab": {
          "base_uri": "https://localhost:8080/",
          "height": 34
        },
        "id": "-gE-Ez1qtyIA",
        "outputId": "94cb2224-0edf-457b-90b5-0ac3488d8a97"
      },
      "outputs": [
        {
          "data": {
            "text/plain": [
              "604800"
            ]
          },
          "execution_count": 0,
          "metadata": {
            "tags": []
          },
          "output_type": "execute_result"
        }
      ],
      "source": [
        "seconds_in_a_week = 7 * seconds_in_a_day\n",
        "seconds_in_a_week"
      ]
    },
    {
      "cell_type": "code",
      "source": [
        "a = \"Hello\"\n",
        "b = \"Everyone\"  #string concatenation\n",
        "print(a+\" \"+b)"
      ],
      "metadata": {
        "id": "Ww9Aqv7pyhgK",
        "outputId": "216563d5-b678-4e3d-fef2-b8d9e481a2de",
        "colab": {
          "base_uri": "https://localhost:8080/"
        }
      },
      "execution_count": null,
      "outputs": [
        {
          "output_type": "stream",
          "name": "stdout",
          "text": [
            "Hello Everyone\n"
          ]
        }
      ]
    },
    {
      "cell_type": "code",
      "source": [
        "w=\"Welcome to GoogleTech\"\n",
        "print(w[6])\n",
        "print(w[-1])    #string indexing\n",
        "print(w[-13])\n",
        "print(w[8])"
      ],
      "metadata": {
        "id": "fVt5Uvzv0SDd",
        "colab": {
          "base_uri": "https://localhost:8080/"
        },
        "outputId": "cd6fb624-e638-410e-bfe1-6b2960ddff96"
      },
      "execution_count": null,
      "outputs": [
        {
          "output_type": "stream",
          "name": "stdout",
          "text": [
            "e\n",
            "h\n",
            "t\n",
            "t\n"
          ]
        }
      ]
    },
    {
      "cell_type": "code",
      "source": [
        "w=\"Welcome to GoogleTech\"\n",
        "print(w[0:7])\n",
        "print(w[0::2]) #string slicing\n",
        "print(w[-1::-2])\n",
        "print(w[-1::-1])"
      ],
      "metadata": {
        "id": "13RAAyyL0SrB",
        "colab": {
          "base_uri": "https://localhost:8080/"
        },
        "outputId": "9beb1e92-61ab-479c-b72b-82ed95666ac5"
      },
      "execution_count": null,
      "outputs": [
        {
          "output_type": "stream",
          "name": "stdout",
          "text": [
            "Welcome\n",
            "Wloet ogeeh\n",
            "heego teolW\n",
            "hceTelgooG ot emocleW\n"
          ]
        }
      ]
    },
    {
      "cell_type": "code",
      "source": [
        "w=\"Welcome to GoogleTech\"\n",
        "t=len(w)\n",
        "print(\"Length of string is:\",t)\n",
        "for a in range(t):\n",
        "  print(a)\n",
        "for a in range(t):\n",
        "  print(w[a])\n",
        "for a in range(t-1,-1,-1):\n",
        "  print(w[a])\n",
        "for a in w:\n",
        "  print(a)\n"
      ],
      "metadata": {
        "id": "REm7Lc5_0TCh",
        "colab": {
          "base_uri": "https://localhost:8080/"
        },
        "outputId": "fde243b6-e836-4950-b81d-93c4ee8470f2"
      },
      "execution_count": null,
      "outputs": [
        {
          "output_type": "stream",
          "name": "stdout",
          "text": [
            "Length of string is: 21\n",
            "0\n",
            "1\n",
            "2\n",
            "3\n",
            "4\n",
            "5\n",
            "6\n",
            "7\n",
            "8\n",
            "9\n",
            "10\n",
            "11\n",
            "12\n",
            "13\n",
            "14\n",
            "15\n",
            "16\n",
            "17\n",
            "18\n",
            "19\n",
            "20\n",
            "W\n",
            "e\n",
            "l\n",
            "c\n",
            "o\n",
            "m\n",
            "e\n",
            " \n",
            "t\n",
            "o\n",
            " \n",
            "G\n",
            "o\n",
            "o\n",
            "g\n",
            "l\n",
            "e\n",
            "T\n",
            "e\n",
            "c\n",
            "h\n",
            "h\n",
            "c\n",
            "e\n",
            "T\n",
            "e\n",
            "l\n",
            "g\n",
            "o\n",
            "o\n",
            "G\n",
            " \n",
            "o\n",
            "t\n",
            " \n",
            "e\n",
            "m\n",
            "o\n",
            "c\n",
            "l\n",
            "e\n",
            "W\n",
            "W\n",
            "e\n",
            "l\n",
            "c\n",
            "o\n",
            "m\n",
            "e\n",
            " \n",
            "t\n",
            "o\n",
            " \n",
            "G\n",
            "o\n",
            "o\n",
            "g\n",
            "l\n",
            "e\n",
            "T\n",
            "e\n",
            "c\n",
            "h\n"
          ]
        }
      ]
    },
    {
      "cell_type": "code",
      "source": [
        "w=(\"How Are You All\")\n",
        "n=w.lower()\n",
        "print(n)"
      ],
      "metadata": {
        "colab": {
          "base_uri": "https://localhost:8080/"
        },
        "id": "AhmfWuZ-zBi3",
        "outputId": "a528d2f0-e658-4244-c7c4-8351944ce492"
      },
      "execution_count": null,
      "outputs": [
        {
          "output_type": "stream",
          "name": "stdout",
          "text": [
            "how are you all\n"
          ]
        }
      ]
    },
    {
      "cell_type": "code",
      "source": [
        "w=(\"how are you all\")\n",
        "n=w.upper()\n",
        "print(n)"
      ],
      "metadata": {
        "colab": {
          "base_uri": "https://localhost:8080/"
        },
        "id": "2Aa9vvPs2Zsj",
        "outputId": "e832e8f7-267e-4ef8-a113-e980b3509860"
      },
      "execution_count": null,
      "outputs": [
        {
          "output_type": "stream",
          "name": "stdout",
          "text": [
            "HOW ARE YOU ALL\n"
          ]
        }
      ]
    },
    {
      "cell_type": "code",
      "source": [
        "w=(\"how are you all\")\n",
        "n=w.title()\n",
        "print(n)\n",
        "\n"
      ],
      "metadata": {
        "colab": {
          "base_uri": "https://localhost:8080/"
        },
        "id": "QJHjSHer27_d",
        "outputId": "6fa2b633-c0ae-4e3c-b074-b077e6db7849"
      },
      "execution_count": null,
      "outputs": [
        {
          "output_type": "stream",
          "name": "stdout",
          "text": [
            "How Are You All\n"
          ]
        }
      ]
    },
    {
      "cell_type": "code",
      "source": [
        "w=(\"how are you all\")\n",
        "n=w.capitalize()\n",
        "print(n)\n",
        "\n"
      ],
      "metadata": {
        "colab": {
          "base_uri": "https://localhost:8080/"
        },
        "id": "3Odtp48u3aBd",
        "outputId": "c6025022-32e8-4517-e9c7-e1d6d8e388e7"
      },
      "execution_count": null,
      "outputs": [
        {
          "output_type": "stream",
          "name": "stdout",
          "text": [
            "How are you all\n"
          ]
        }
      ]
    },
    {
      "cell_type": "code",
      "source": [
        "w=\"Welcome\"\n",
        "print(w.find('e'))\n",
        "print(w.find('el'))\n",
        "print(w.find('e',2))# start finding from 2 index\n",
        "print(w.find('z'))# when element is not present it will rturn -1\n"
      ],
      "metadata": {
        "colab": {
          "base_uri": "https://localhost:8080/"
        },
        "id": "s3wkryRE3wkd",
        "outputId": "e501c5f0-fd76-4145-ddcf-d7ba94dba367"
      },
      "execution_count": null,
      "outputs": [
        {
          "output_type": "stream",
          "name": "stdout",
          "text": [
            "1\n",
            "1\n",
            "6\n",
            "-1\n"
          ]
        }
      ]
    },
    {
      "cell_type": "code",
      "source": [
        "w=\"Welcome\"\n",
        "print(w.index('e'))\n",
        "print(w.index('c'))\n",
        "print(w.index('c',3))# start finding from 2 index\n",
        "print(w.index('z'))# when element is not present it will give eror\n"
      ],
      "metadata": {
        "colab": {
          "base_uri": "https://localhost:8080/",
          "height": 252
        },
        "id": "BELyqvWa4vca",
        "outputId": "cb956c05-f983-44be-9977-adc547a1473a"
      },
      "execution_count": null,
      "outputs": [
        {
          "output_type": "stream",
          "name": "stdout",
          "text": [
            "1\n",
            "3\n",
            "3\n"
          ]
        },
        {
          "output_type": "error",
          "ename": "ValueError",
          "evalue": "ignored",
          "traceback": [
            "\u001b[0;31m---------------------------------------------------------------------------\u001b[0m",
            "\u001b[0;31mValueError\u001b[0m                                Traceback (most recent call last)",
            "\u001b[0;32m<ipython-input-11-d0a9f6c1c4e3>\u001b[0m in \u001b[0;36m<cell line: 5>\u001b[0;34m()\u001b[0m\n\u001b[1;32m      3\u001b[0m \u001b[0mprint\u001b[0m\u001b[0;34m(\u001b[0m\u001b[0mw\u001b[0m\u001b[0;34m.\u001b[0m\u001b[0mindex\u001b[0m\u001b[0;34m(\u001b[0m\u001b[0;34m'c'\u001b[0m\u001b[0;34m)\u001b[0m\u001b[0;34m)\u001b[0m\u001b[0;34m\u001b[0m\u001b[0;34m\u001b[0m\u001b[0m\n\u001b[1;32m      4\u001b[0m \u001b[0mprint\u001b[0m\u001b[0;34m(\u001b[0m\u001b[0mw\u001b[0m\u001b[0;34m.\u001b[0m\u001b[0mindex\u001b[0m\u001b[0;34m(\u001b[0m\u001b[0;34m'c'\u001b[0m\u001b[0;34m,\u001b[0m\u001b[0;36m3\u001b[0m\u001b[0;34m)\u001b[0m\u001b[0;34m)\u001b[0m\u001b[0;31m# start finding from 2 index\u001b[0m\u001b[0;34m\u001b[0m\u001b[0;34m\u001b[0m\u001b[0m\n\u001b[0;32m----> 5\u001b[0;31m \u001b[0mprint\u001b[0m\u001b[0;34m(\u001b[0m\u001b[0mw\u001b[0m\u001b[0;34m.\u001b[0m\u001b[0mindex\u001b[0m\u001b[0;34m(\u001b[0m\u001b[0;34m'z'\u001b[0m\u001b[0;34m)\u001b[0m\u001b[0;34m)\u001b[0m\u001b[0;31m# when element is not present it will give eror\u001b[0m\u001b[0;34m\u001b[0m\u001b[0;34m\u001b[0m\u001b[0m\n\u001b[0m",
            "\u001b[0;31mValueError\u001b[0m: substring not found"
          ]
        }
      ]
    },
    {
      "cell_type": "code",
      "source": [
        "w=\"Welcome\"\n",
        "print(w.isalpha())\n",
        "\n",
        "w=\"Welcome13\"\n",
        "print(w.isdigit())\n",
        "print(w.isalnum())\n",
        "\n",
        "w=\"Welcome@123\"\n",
        "print(w.isalnum())\n"
      ],
      "metadata": {
        "colab": {
          "base_uri": "https://localhost:8080/"
        },
        "id": "fBHq4O1y5iV2",
        "outputId": "ae5c4d1f-f4cd-4d23-e205-145d17b7507d"
      },
      "execution_count": null,
      "outputs": [
        {
          "output_type": "stream",
          "name": "stdout",
          "text": [
            "True\n",
            "False\n",
            "True\n",
            "False\n"
          ]
        }
      ]
    },
    {
      "cell_type": "code",
      "source": [],
      "metadata": {
        "id": "FiXGVMH5zxSX"
      },
      "execution_count": null,
      "outputs": []
    },
    {
      "cell_type": "code",
      "source": [
        "colors=[\"red\", \"pink\",\"orange\",\"yellow\",\"blue\", \"green\",\"black\",\"white\"]\n",
        "print(colors)\n",
        "print(type(colors))\n",
        "print(colors[1])                #Lists\n",
        "print(colors[5])\n",
        "print(colors[3])\n",
        "print(colors[2])"
      ],
      "metadata": {
        "colab": {
          "base_uri": "https://localhost:8080/"
        },
        "id": "gdXvkkJDy7zW",
        "outputId": "704666ea-3fd8-4ae7-9365-6708f8ff73ce"
      },
      "execution_count": null,
      "outputs": [
        {
          "output_type": "stream",
          "name": "stdout",
          "text": [
            "['red', 'pink', 'orange', 'yellow', 'blue', 'green', 'black', 'white']\n",
            "<class 'list'>\n",
            "pink\n",
            "green\n",
            "yellow\n",
            "orange\n"
          ]
        }
      ]
    },
    {
      "cell_type": "code",
      "source": [
        "set1 = set([1, 1, 1, 2, 2, 3])\n",
        "set2 = set(('a', 'a', 'b', 'b', 'c'))\n",
        "set3 = set('anaconda')\n",
        "set4 = {1, 1, 'anaconda', 'anaconda', 8.6, (1, 2, 3), None}\n",
        "\n",
        "print('Set1:', set1)\n",
        "print('Set2:', set2)                #Sets\n",
        "print('Set3:', set3)\n",
        "print('Set4:', set4)"
      ],
      "metadata": {
        "colab": {
          "base_uri": "https://localhost:8080/"
        },
        "id": "X8sgrXbnijYA",
        "outputId": "926a891c-eeaa-421b-9e88-b224dd3f19b4"
      },
      "execution_count": 6,
      "outputs": [
        {
          "output_type": "stream",
          "name": "stdout",
          "text": [
            "Set1: {1, 2, 3}\n",
            "Set2: {'a', 'b', 'c'}\n",
            "Set3: {'a', 'o', 'd', 'n', 'c'}\n",
            "Set4: {1, 8.6, (1, 2, 3), None, 'anaconda'}\n"
          ]
        }
      ]
    },
    {
      "cell_type": "code",
      "source": [
        "my_dictionary = dict()\n",
        "\n",
        "print(my_dictionary)\n",
        "print(type(my_dictionary))\n",
        "\n"
      ],
      "metadata": {
        "colab": {
          "base_uri": "https://localhost:8080/"
        },
        "id": "F48kZS-Qj3ok",
        "outputId": "0fab8c13-44dd-4084-c5a3-332b1406fde4"
      },
      "execution_count": 7,
      "outputs": [
        {
          "output_type": "stream",
          "name": "stdout",
          "text": [
            "{}\n",
            "<class 'dict'>\n"
          ]
        }
      ]
    },
    {
      "cell_type": "code",
      "source": [
        "my_information = {'name': 'Anamika', 'age': 20, 'location': 'Delhi'}\n",
        "\n",
        "print(my_information)\n",
        "print(type(my_information))\n",
        "\n"
      ],
      "metadata": {
        "colab": {
          "base_uri": "https://localhost:8080/"
        },
        "id": "wiS1mr72q28E",
        "outputId": "270000f7-a801-47d5-e8d6-228ad1a79804"
      },
      "execution_count": 8,
      "outputs": [
        {
          "output_type": "stream",
          "name": "stdout",
          "text": [
            "{'name': 'Anamika', 'age': 20, 'location': 'Delhi'}\n",
            "<class 'dict'>\n"
          ]
        }
      ]
    },
    {
      "cell_type": "markdown",
      "source": [
        "# New Section"
      ],
      "metadata": {
        "id": "XsIf2mUR0ONn"
      }
    },
    {
      "cell_type": "code",
      "source": [
        "x=10.25\n",
        "y=38.93\n",
        "print(x*y)"
      ],
      "metadata": {
        "colab": {
          "base_uri": "https://localhost:8080/"
        },
        "id": "OkFyeI3Gwla5",
        "outputId": "ba7b500f-4e7d-4593-a308-824c1e2cfeff"
      },
      "execution_count": null,
      "outputs": [
        {
          "output_type": "stream",
          "name": "stdout",
          "text": [
            "399.03249999999997\n"
          ]
        }
      ]
    },
    {
      "cell_type": "code",
      "source": [
        "value= 65;\n",
        "print(chr(value))\n",
        "value= 66;\n",
        "print(chr(value))  #convert ASCII value(integer into string)\n",
        "value= 67;\n",
        "print(chr(value))\n"
      ],
      "metadata": {
        "colab": {
          "base_uri": "https://localhost:8080/"
        },
        "id": "3kqplhWmJJ1d",
        "outputId": "eef3878b-2091-410c-ed04-996d84c8b214"
      },
      "execution_count": null,
      "outputs": [
        {
          "output_type": "stream",
          "name": "stdout",
          "text": [
            "A\n",
            "B\n",
            "C\n"
          ]
        }
      ]
    },
    {
      "cell_type": "code",
      "source": [
        "str='a';\n",
        "print(ord(str))\n",
        "str='A';\n",
        "print(ord(str))\n",
        "str='H';\n",
        "print(ord(str))\n",
        "                                   #return ASCII VALUE of string"
      ],
      "metadata": {
        "colab": {
          "base_uri": "https://localhost:8080/"
        },
        "id": "T2LbONW4LHWl",
        "outputId": "8e5649dc-5854-4ee5-ca44-0a7f35029b8f"
      },
      "execution_count": null,
      "outputs": [
        {
          "output_type": "stream",
          "name": "stdout",
          "text": [
            "97\n",
            "65\n",
            "72\n"
          ]
        }
      ]
    },
    {
      "cell_type": "code",
      "source": [
        "text=\"Welcome {} to {} korea\".format(\"hello\", 20);\n",
        "print(text)\n",
        "text=\"Welcome {0} to {1} korea\".format(\"hello\", 20);\n",
        "print(text)\n",
        "text=\"Welcome {b:>10} to {a} korea\".format(a=30,b= 20);\n",
        "print(text)\n",
        "text=\"Welcome {a:^10} to {b} korea\".format(a=10,b=20);\n",
        "print(text)\n",
        "text=\"Welcome {b:<10} to {a} korea\".format(a=60,b=20);\n",
        "print(text)\n",
        "text=\"Welcome {b:>10} to {a:^10} korea\".format(a=50,b=20);\n",
        "print(text)"
      ],
      "metadata": {
        "colab": {
          "base_uri": "https://localhost:8080/"
        },
        "id": "TJYtV7lcMbvB",
        "outputId": "89a8f1ca-60f5-40d7-cee8-f5b442c84ba6"
      },
      "execution_count": null,
      "outputs": [
        {
          "output_type": "stream",
          "name": "stdout",
          "text": [
            "Welcome hello to 20 korea\n",
            "Welcome hello to 20 korea\n",
            "Welcome         20 to 30 korea\n",
            "Welcome     10     to 20 korea\n",
            "Welcome 20         to 60 korea\n",
            "Welcome         20 to     50     korea\n"
          ]
        }
      ]
    }
  ],
  "metadata": {
    "colab": {
      "provenance": []
    },
    "kernelspec": {
      "display_name": "Python 3",
      "name": "python3"
    }
  },
  "nbformat": 4,
  "nbformat_minor": 0
}